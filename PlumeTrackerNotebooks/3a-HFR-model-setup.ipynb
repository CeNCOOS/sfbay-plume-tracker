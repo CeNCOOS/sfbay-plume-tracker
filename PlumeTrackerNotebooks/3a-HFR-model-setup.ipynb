{
 "cells": [
  {
   "cell_type": "code",
   "execution_count": 1,
   "metadata": {},
   "outputs": [],
   "source": [
    "import xarray as xr\n",
    "import datetime as dt\n",
    "from datetime import timedelta\n",
    "from opendrift.readers import reader_netCDF_CF_generic\n",
    "from opendrift.readers import reader_global_landmask\n",
    "from opendrift.models.oceandrift import OceanDrift\n",
    "import os\n",
    "import matplotlib.pyplot as plt\n",
    "import matplotlib\n",
    "#matplotlib.use('TkAgg')"
   ]
  },
  {
   "cell_type": "code",
   "execution_count": 2,
   "metadata": {},
   "outputs": [],
   "source": [
    "def make_map():\n",
    "    fig = plt.figure(figsize=(12,9))\n",
    "    cart_proj = ccrs.PlateCarree()\n",
    "    ax = plt.axes(projection=cart_proj)\n",
    "    ax.coastlines('10m', linewidth=0.8,zorder=200)\n",
    "    ax.set_xlim(-123.3,-122.2)\n",
    "    ax.set_ylim(37.5,38.1)\n",
    "    return(fig, ax)"
   ]
  },
  {
   "cell_type": "markdown",
   "metadata": {},
   "source": [
    "## Model Setup ##"
   ]
  },
  {
   "cell_type": "markdown",
   "metadata": {},
   "source": [
    "__1. Create the Model Object__\n",
    "\n",
    "We will be using the OceanDrift model, which simulates ocean surface drifting, forced by surface currents, wind, and/or stokes drift."
   ]
  },
  {
   "cell_type": "code",
   "execution_count": 3,
   "metadata": {},
   "outputs": [],
   "source": [
    "o = OceanDrift(loglevel=50) # Setting the log level will give the user different amounts of info (0=Debug (all), 20=Minimum, 50=None)\n",
    "o_diffusion = OceanDrift(loglevel=50) # Setting the log level will give the user different amounts of info (0=Debug (all), 20=Minimum, 50=None)"
   ]
  },
  {
   "cell_type": "markdown",
   "metadata": {},
   "source": [
    "__Create readers for forcing the model__\n",
    "\n",
    "There are a couple of different types of readers. Here we will be using the `reader_netCDF_CF_generic` class and the `reader_global_landmask`.\n",
    "\n",
    "__`reader_netCDF_CF_generic`__: Takes any CF-compliant netCDF file (including a thredds endpoint). Because the CF name for surface current velocities are: 'x_sea_water_velocity' and 'y_sea_water_velocity', the reader is able to identify the data.\n",
    "\n",
    "__`reader_global_landmask`__ will create a landmask from the __Global Self-consistent, Hierarchical, High-resolution Geography Database (GSHHG)__ dataset."
   ]
  },
  {
   "cell_type": "code",
   "execution_count": 4,
   "metadata": {},
   "outputs": [],
   "source": [
    "# data_sets = ['Data/sfbay_2km_2020_07_20.nc','Data/sfbay_6km_2020_07_20.nc']\n",
    "# reader_2km = reader_netCDF_CF_generic.Reader(data_sets[0])\n",
    "# reader_6km = reader_netCDF_CF_generic.Reader(data_sets[1])\n",
    "reader_2km = reader_netCDF_CF_generic.Reader(\"http://hfrnet-tds.ucsd.edu/thredds/dodsC/HFR/USWC/2km/hourly/RTV/HFRADAR_US_West_Coast_2km_Resolution_Hourly_RTV_best.ncd\")\n",
    "reader_6km = reader_netCDF_CF_generic.Reader(\"http://hfrnet-tds.ucsd.edu/thredds/dodsC/HFR/USWC/6km/hourly/RTV/HFRADAR_US_West_Coast_6km_Resolution_Hourly_RTV_best.ncd\")\n",
    "\n",
    "\n"
   ]
  },
  {
   "cell_type": "code",
   "execution_count": 5,
   "metadata": {},
   "outputs": [
    {
     "name": "stdout",
     "output_type": "stream",
     "text": [
      "===========================\n",
      "Reader: http://hfrnet-tds.ucsd.edu/thredds/dodsC/HFR/USWC/6km/hourly/RTV/HFRADAR_US_West_Coast_6km_Resolution_Hourly_RTV_best.ncd\n",
      "Projection: \n",
      "  +proj=latlong\n",
      "Coverage: [degrees]\n",
      "  xmin: -130.360001   xmax: -115.805565   step: 0.0624695   numx: 233\n",
      "  ymin: 30.250000   ymax: 49.992039   step: 0.0539398   numy: 367\n",
      "  Corners (lon, lat):\n",
      "    (-130.36,  49.99)  (-115.81,  49.99)\n",
      "    (-130.36,  30.25)  (-115.81,  30.25)\n",
      "Vertical levels [m]: \n",
      "  Not specified\n",
      "Available time range:\n",
      "  start: 2012-01-01 00:00:00   end: 2020-10-07 22:00:00   step: 1:00:00\n",
      "    76871 times (1096 missing)\n",
      "Variables:\n",
      "  time\n",
      "  forecast_reference_time\n",
      "  forecast_period\n",
      "  surface_eastward_sea_water_velocity\n",
      "  surface_northward_sea_water_velocity\n",
      "  x_sea_water_velocity\n",
      "  y_sea_water_velocity\n",
      "===========================\n",
      "\n",
      "['x_sea_water_velocity', 'y_sea_water_velocity', 'x_wind', 'y_wind', 'upward_sea_water_velocity', 'ocean_vertical_diffusivity', 'sea_surface_wave_significant_height', 'sea_surface_wave_stokes_drift_x_velocity', 'sea_surface_wave_stokes_drift_y_velocity', 'sea_surface_wave_period_at_variance_spectral_density_maximum', 'sea_surface_wave_mean_period_from_variance_spectral_density_second_frequency_moment', 'surface_downward_x_stress', 'surface_downward_y_stress', 'turbulent_kinetic_energy', 'turbulent_generic_length_scale', 'sea_floor_depth_below_sea_level', 'land_binary_mask']\n"
     ]
    }
   ],
   "source": [
    "print(reader_6km)\n",
    "# print the required variables for this model\n",
    "print(OceanDrift.required_variables)"
   ]
  },
  {
   "cell_type": "code",
   "execution_count": 6,
   "metadata": {},
   "outputs": [],
   "source": [
    "reader_landmask = reader_global_landmask.Reader(\n",
    "                       extent=[-123.99,  -122.177032, 37.244221, 38.233120])  # lonmin, lonmax, latmin, latmax"
   ]
  },
  {
   "cell_type": "markdown",
   "metadata": {},
   "source": [
    "__3. Add readers to model__\n",
    "\n",
    "Data readers can be added in an hierarchical manner, from highest to lowest prioity."
   ]
  },
  {
   "cell_type": "code",
   "execution_count": 7,
   "metadata": {},
   "outputs": [],
   "source": [
    "o.add_reader([reader_landmask,reader_2km, reader_6km])\n",
    "o_diffusion.add_reader([reader_landmask,reader_2km, reader_6km])"
   ]
  },
  {
   "cell_type": "markdown",
   "metadata": {},
   "source": [
    "__4. Seeding the Model__\n",
    "\n",
    "There are a several different ways to seed data, we can supply a shape file, a radius, a line etc.\n",
    "\n",
    "From the tutorial:\n",
    "```\n",
    "Note that the radius is not an absolute boundary within which elements will be seeded, but one standard deviation of a normal distribution in space. Thus about 68% of elements will be seeded within this radius, with more elements near the center. By default, elements are seeded at the surface (z=0)\n",
    "```\n",
    "\n",
    "Here we could also use the OilDrift model if we wanted to simulate oils (or other density fluids)."
   ]
  },
  {
   "cell_type": "code",
   "execution_count": 8,
   "metadata": {},
   "outputs": [],
   "source": [
    "start_time = dt.datetime(2020,7,20,7,0)\n",
    "\n",
    "o.seed_elements(lon=-122.55183, lat=37.8016, number=500, radius=1000,\n",
    "                time=start_time)\n",
    "\n",
    "o_diffusion.seed_elements(lon=-122.55183, lat=37.8016, number=500, radius=1000,\n",
    "                time=start_time)"
   ]
  },
  {
   "cell_type": "markdown",
   "metadata": {},
   "source": [
    "__5. Setting other configurations__\n",
    "\n",
    "There are a bunch of ways to configure the model, how it reflects off of the shoreline, the advection schemes, other forcings etc.\n",
    "\n",
    "Use `o.list_configspec()` to view the current settings"
   ]
  },
  {
   "cell_type": "code",
   "execution_count": 9,
   "metadata": {},
   "outputs": [],
   "source": [
    "o.set_config('general:coastline_action', 'stranding') \n",
    "o.set_config('drift:scheme', 'runge-kutta4')\n",
    "o.set_config('general:time_step_minutes', 15)\n",
    "o.set_config('drift:stokes_drift', False)\n",
    "\n",
    "o_diffusion.set_config('general:coastline_action', 'stranding') \n",
    "o_diffusion.set_config('drift:scheme', 'runge-kutta4')\n",
    "o_diffusion.set_config('general:time_step_minutes', 15)\n",
    "o_diffusion.set_config('drift:stokes_drift', False)\n",
    "o_diffusion.set_config('drift:current_uncertainty_uniform', .5) # uncertainty .2 meters per sec. this is a uniform distribution from -.2 to .2\n",
    "# o_diffusion.set_config('drift:current_uncertainty', .2) # uncertainty .2 meters per sec. - this is a normal distrobution from -.2 to .2"
   ]
  },
  {
   "cell_type": "code",
   "execution_count": 10,
   "metadata": {},
   "outputs": [
    {
     "data": {
      "text/plain": [
       "['land_binary_mask',\n",
       " 'time',\n",
       " 'forecast_reference_time',\n",
       " 'forecast_period',\n",
       " 'surface_eastward_sea_water_velocity',\n",
       " 'surface_northward_sea_water_velocity',\n",
       " 'x_sea_water_velocity',\n",
       " 'y_sea_water_velocity',\n",
       " 'time',\n",
       " 'forecast_reference_time',\n",
       " 'forecast_period',\n",
       " 'surface_eastward_sea_water_velocity',\n",
       " 'surface_northward_sea_water_velocity',\n",
       " 'x_sea_water_velocity',\n",
       " 'y_sea_water_velocity']"
      ]
     },
     "execution_count": 10,
     "metadata": {},
     "output_type": "execute_result"
    }
   ],
   "source": [
    "o_diffusion.list_environment_variables()"
   ]
  },
  {
   "cell_type": "code",
   "execution_count": 11,
   "metadata": {},
   "outputs": [],
   "source": [
    "base_folder= \"Data/model_output/\"\n",
    "out_fname = \"sf_bay_\" + start_time.strftime(\"%Y%m%dT%H%M%S\")"
   ]
  },
  {
   "cell_type": "code",
   "execution_count": 12,
   "metadata": {},
   "outputs": [
    {
     "data": {
      "text/plain": [
       "'Data/model_output/sf_bay_20200720T070000.nc'"
      ]
     },
     "execution_count": 12,
     "metadata": {},
     "output_type": "execute_result"
    }
   ],
   "source": [
    "os.path.join(base_folder,out_fname+\".nc\")"
   ]
  },
  {
   "cell_type": "code",
   "execution_count": 14,
   "metadata": {},
   "outputs": [],
   "source": [
    "# o.run(duration=timedelta(hours=48), time_step=timedelta(minutes=15)) #\n",
    "o_diffusion.run(duration=timedelta(hours=48), time_step=timedelta(minutes=15), outfile=os.path.join(base_folder,out_fname+\".nc\")) #"
   ]
  },
  {
   "cell_type": "code",
   "execution_count": 19,
   "metadata": {},
   "outputs": [
    {
     "name": "stderr",
     "output_type": "stream",
     "text": [
      "WARNING:py.warnings:/home/pdaniel/python_modules/opendrift/opendrift/models/basemodel.py:2902: MatplotlibDeprecationWarning: You are modifying the state of a globally registered colormap. In future versions, you will not be able to modify a registered colormap in-place. To remove this warning, you can make a copy of the colormap first. cmap = copy.copy(mpl.cm.get_cmap(\"jet\"))\n",
      "  cmap.set_under('w')\n",
      "\n",
      "WARNING:matplotlib.animation:MovieWriter stderr:\n",
      "[libx264 @ 0x5569d3795880] height not divisible by 2 (1100x761)\n",
      "Error initializing output stream 0:0 -- Error while opening encoder for output stream #0:0 - maybe incorrect parameters such as bit_rate, rate, width or height\n",
      "\n"
     ]
    }
   ],
   "source": [
    "o.animation(compare=o_diffusion, legend=['No diffusion', 'Width diffusion'],\n",
    "             legend_loc='upper center', fast=True,  filename='Figures/GG_example-2km-start_density.mp4',show_trajectories=True, density=True)"
   ]
  },
  {
   "cell_type": "code",
   "execution_count": 33,
   "metadata": {},
   "outputs": [],
   "source": [
    "# o.plot(show_particles=True,background=\"x_sea_water_velocity\")\n",
    "# o.plot(compare=o_diffusion, legend=['Width diffusion', 'No diffusion'],density=True)\n",
    "o.plot(density=True, filename='Figures/testing_plot.png')\n",
    "plt.show()"
   ]
  },
  {
   "cell_type": "code",
   "execution_count": 32,
   "metadata": {},
   "outputs": [
    {
     "name": "stdout",
     "output_type": "stream",
     "text": [
      "===========================\n",
      "--------------------\n",
      "Reader performance:\n",
      "--------------------\n",
      "global_landmask\n",
      " 0:00:01.5  total\n",
      " 0:00:00.0  preparing\n",
      " 0:00:01.5  reading\n",
      " 0:00:00.0  interpolation_time\n",
      " 0:00:00.0  masking\n",
      "--------------------\n",
      "Data/sfbay_2km_2020_07_20.nc\n",
      " 0:00:29.8  total\n",
      " 0:00:00.4  preparing\n",
      " 0:00:00.3  reading\n",
      " 0:00:00.9  interpolation\n",
      " 0:00:00.1  interpolation_time\n",
      " 0:00:27.9  rotating vectors\n",
      " 0:00:00.0  masking\n",
      "--------------------\n",
      "Data/sfbay_6km_2020_07_20.nc\n",
      "--------------------\n",
      "global_landmask_0\n",
      "--------------------\n",
      "http://hfrnet-tds.ucsd.edu/thredds/dodsC/HFR/USWC/2km/hourly/RTV/HFRADAR_US_West_Coast_2km_Resolution_Hourly_RTV_best.ncd\n",
      "--------------------\n",
      "http://hfrnet-tds.ucsd.edu/thredds/dodsC/HFR/USWC/6km/hourly/RTV/HFRADAR_US_West_Coast_6km_Resolution_Hourly_RTV_best.ncd\n",
      "--------------------\n",
      "Performance:\n",
      " 9:20.7 total time\n",
      " 9:08.5 configuration\n",
      "    1.4 preparing main loop\n",
      "      1.3 moving elements to ocean\n",
      "     21.0 readers\n",
      "        1.5 global_landmask\n",
      "        1.3 postprocessing\n",
      "   21.5 main loop\n",
      "       17.3 Data/sfbay_2km_2020_07_20.nc\n",
      "     14.5 updating elements\n",
      "    0.0 cleaning up\n",
      "--------------------\n",
      "===========================\n",
      "Model:\tOceanDrift     (OpenDrift version 1.3.2)\n",
      "\t363 active Lagrangian3DArray particles  (265 deactivated, 0 scheduled)\n",
      "Projection: +proj=lonlat +ellps=WGS84\n",
      "-------------------\n",
      "Environment variables:\n",
      "  -----\n",
      "  land_binary_mask\n",
      "     1) global_landmask\n",
      "  -----\n",
      "  x_sea_water_velocity\n",
      "  y_sea_water_velocity\n",
      "     1) Data/sfbay_2km_2020_07_20.nc\n",
      "     2) Data/sfbay_6km_2020_07_20.nc\n",
      "     3) http://hfrnet-tds.ucsd.edu/thredds/dodsC/HFR/USWC/2km/hourly/RTV/HFRADAR_US_West_Coast_2km_Resolution_Hourly_RTV_best.ncd\n",
      "     4) http://hfrnet-tds.ucsd.edu/thredds/dodsC/HFR/USWC/6km/hourly/RTV/HFRADAR_US_West_Coast_6km_Resolution_Hourly_RTV_best.ncd\n",
      "  -----\n",
      "Readers not added for the following variables:\n",
      "  ocean_vertical_diffusivity\n",
      "  sea_floor_depth_below_sea_level\n",
      "  sea_surface_wave_mean_period_from_variance_spectral_density_second_frequency_moment\n",
      "  sea_surface_wave_period_at_variance_spectral_density_maximum\n",
      "  sea_surface_wave_significant_height\n",
      "  sea_surface_wave_stokes_drift_x_velocity\n",
      "  sea_surface_wave_stokes_drift_y_velocity\n",
      "  surface_downward_x_stress\n",
      "  surface_downward_y_stress\n",
      "  turbulent_generic_length_scale\n",
      "  turbulent_kinetic_energy\n",
      "  upward_sea_water_velocity\n",
      "  x_wind\n",
      "  y_wind\n",
      "\n",
      "Time:\n",
      "\tStart: 2020-07-20 07:00:00\n",
      "\tPresent: 2020-07-22 07:00:00\n",
      "\tCalculation steps: 192 * 0:15:00 - total time: 2 days, 0:00:00\n",
      "\tOutput steps: 193 * 0:15:00\n",
      "===========================\n",
      "\n"
     ]
    }
   ],
   "source": [
    "print(o)"
   ]
  },
  {
   "cell_type": "code",
   "execution_count": 16,
   "metadata": {},
   "outputs": [],
   "source": [
    "o_diffusion.write_netcdf_density_map('Data/model_output/diffusion_density_large.nc',pixelsize_m=1000)"
   ]
  },
  {
   "cell_type": "code",
   "execution_count": null,
   "metadata": {},
   "outputs": [],
   "source": [
    "o_diffusion."
   ]
  },
  {
   "cell_type": "code",
   "execution_count": 13,
   "metadata": {},
   "outputs": [],
   "source": [
    "o.reset()\n",
    "o_diffusion.reset()"
   ]
  },
  {
   "cell_type": "code",
   "execution_count": null,
   "metadata": {},
   "outputs": [],
   "source": []
  }
 ],
 "metadata": {
  "kernelspec": {
   "display_name": "Python 3",
   "language": "python",
   "name": "python3"
  },
  "language_info": {
   "codemirror_mode": {
    "name": "ipython",
    "version": 3
   },
   "file_extension": ".py",
   "mimetype": "text/x-python",
   "name": "python",
   "nbconvert_exporter": "python",
   "pygments_lexer": "ipython3",
   "version": "3.8.5"
  }
 },
 "nbformat": 4,
 "nbformat_minor": 4
}
