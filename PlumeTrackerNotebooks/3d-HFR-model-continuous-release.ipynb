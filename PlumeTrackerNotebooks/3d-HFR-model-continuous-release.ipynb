{
 "cells": [
  {
   "cell_type": "code",
   "execution_count": 1,
   "metadata": {},
   "outputs": [],
   "source": [
    "%matplotlib inline\n",
    "import xarray as xr\n",
    "import datetime as dt\n",
    "from datetime import timedelta\n",
    "from opendrift.readers import reader_netCDF_CF_generic\n",
    "from opendrift.readers import reader_global_landmask\n",
    "from opendrift.models.oceandrift import OceanDrift\n",
    "import opendrift\n",
    "import os\n",
    "import matplotlib.pyplot as plt\n",
    "import matplotlib\n",
    "#matplotlib.use('TkAgg')"
   ]
  },
  {
   "cell_type": "code",
   "execution_count": 2,
   "metadata": {},
   "outputs": [
    {
     "data": {
      "text/plain": [
       "'/home/pdaniel/anaconda3/lib/python3.8/site-packages/OpenDrift-1.3.2-py3.8.egg/opendrift/readers/reader_global_landmask.py'"
      ]
     },
     "execution_count": 2,
     "metadata": {},
     "output_type": "execute_result"
    }
   ],
   "source": [
    "opendrift.readers.reader_global_landmask.__file__"
   ]
  },
  {
   "cell_type": "code",
   "execution_count": 3,
   "metadata": {},
   "outputs": [],
   "source": [
    "def make_map():\n",
    "    fig = plt.figure(figsize=(12,9))\n",
    "    cart_proj = ccrs.PlateCarree()\n",
    "    ax = plt.axes(projection=cart_proj)\n",
    "    ax.coastlines('10m', linewidth=0.8,zorder=200)\n",
    "    ax.set_xlim(-123.3,-122.2)\n",
    "    ax.set_ylim(37.5,38.1)\n",
    "    return(fig, ax)"
   ]
  },
  {
   "cell_type": "markdown",
   "metadata": {},
   "source": [
    "## Model Setup ##"
   ]
  },
  {
   "cell_type": "markdown",
   "metadata": {},
   "source": [
    "__1. Create the Model Object__\n",
    "\n",
    "We will be using the OceanDrift model, which simulates ocean surface drifting, forced by surface currents, wind, and/or stokes drift."
   ]
  },
  {
   "cell_type": "code",
   "execution_count": 8,
   "metadata": {},
   "outputs": [],
   "source": [
    "o = OceanDrift(loglevel=50) # Setting the log level will give the user different amounts of info (0=Debug (all), 20=Minimum, 50=None)\n",
    "reader_2km = reader_netCDF_CF_generic.Reader(\"http://hfrnet-tds.ucsd.edu/thredds/dodsC/HFR/USWC/2km/hourly/RTV/HFRADAR_US_West_Coast_2km_Resolution_Hourly_RTV_best.ncd\")\n",
    "reader_6km = reader_netCDF_CF_generic.Reader(\"http://hfrnet-tds.ucsd.edu/thredds/dodsC/HFR/USWC/6km/hourly/RTV/HFRADAR_US_West_Coast_6km_Resolution_Hourly_RTV_best.ncd\")\n",
    "reader_landmask = reader_global_landmask.Reader(\n",
    "                       extent=[-123.99,  -122.177032, 37.244221, 38.233120])  # lonmin, lonmax, latmin, latmax\n",
    "o.add_reader([reader_landmask,reader_2km, reader_6km])\n",
    "\n"
   ]
  },
  {
   "cell_type": "code",
   "execution_count": 9,
   "metadata": {},
   "outputs": [
    {
     "name": "stderr",
     "output_type": "stream",
     "text": [
      "ERROR:root:could not verify read permissions for group and others on landmask.\n",
      "Traceback (most recent call last):\n",
      "  File \"/home/pdaniel/anaconda3/lib/python3.8/site-packages/opendrift_landmask_data-0.6-py3.8.egg/opendrift_landmask_data/mask.py\", line 77, in __check_permissions__\n",
      "    if not os.stat(self.lockf).st_mode & 0o777 == 0o777:\n",
      "FileNotFoundError: [Errno 2] No such file or directory: '/tmp/landmask/.mask.dat.lock'\n"
     ]
    }
   ],
   "source": [
    "reader_landmask = reader_global_landmask.Reader(\n",
    "                       extent=[-123.99,  -122.177032, 37.244221, 38.233120])  # lonmin, lonmax, latmin, latmax"
   ]
  },
  {
   "cell_type": "markdown",
   "metadata": {},
   "source": [
    "__3. Add readers to model__\n",
    "\n",
    "Data readers can be added in an hierarchical manner, from highest to lowest prioity."
   ]
  },
  {
   "cell_type": "code",
   "execution_count": 10,
   "metadata": {},
   "outputs": [
    {
     "data": {
      "text/plain": [
       "===========================\n",
       "Model:\tOceanDrift     (OpenDrift version 1.3.2)\n",
       "\t0 active Lagrangian3DArray particles  (0 deactivated, 0 scheduled)\n",
       "Projection: +proj=lonlat +ellps=WGS84\n",
       "-------------------\n",
       "Environment variables:\n",
       "  -----\n",
       "  land_binary_mask\n",
       "     1) global_landmask\n",
       "  -----\n",
       "  x_sea_water_velocity\n",
       "  y_sea_water_velocity\n",
       "     1) http://hfrnet-tds.ucsd.edu/thredds/dodsC/HFR/USWC/2km/hourly/RTV/HFRADAR_US_West_Coast_2km_Resolution_Hourly_RTV_best.ncd\n",
       "     2) http://hfrnet-tds.ucsd.edu/thredds/dodsC/HFR/USWC/6km/hourly/RTV/HFRADAR_US_West_Coast_6km_Resolution_Hourly_RTV_best.ncd\n",
       "  -----\n",
       "Readers not added for the following variables:\n",
       "  ocean_vertical_diffusivity\n",
       "  sea_floor_depth_below_sea_level\n",
       "  sea_surface_wave_mean_period_from_variance_spectral_density_second_frequency_moment\n",
       "  sea_surface_wave_period_at_variance_spectral_density_maximum\n",
       "  sea_surface_wave_significant_height\n",
       "  sea_surface_wave_stokes_drift_x_velocity\n",
       "  sea_surface_wave_stokes_drift_y_velocity\n",
       "  surface_downward_x_stress\n",
       "  surface_downward_y_stress\n",
       "  turbulent_generic_length_scale\n",
       "  turbulent_kinetic_energy\n",
       "  upward_sea_water_velocity\n",
       "  x_wind\n",
       "  y_wind\n",
       "==========================="
      ]
     },
     "execution_count": 10,
     "metadata": {},
     "output_type": "execute_result"
    }
   ],
   "source": [
    "o.add_reader([reader_landmask,reader_2km, reader_6km])\n",
    "# o.add_reader([reader_2km, reader_6km])\n",
    "\n",
    "\n",
    "o"
   ]
  },
  {
   "cell_type": "markdown",
   "metadata": {},
   "source": [
    "__4. Seeding the Model__\n",
    "\n",
    "There are a several different ways to seed data, we can supply a shape file, a radius, a line etc.\n",
    "\n",
    "From the tutorial:\n",
    "```\n",
    "Note that the radius is not an absolute boundary within which elements will be seeded, but one standard deviation of a normal distribution in space. Thus about 68% of elements will be seeded within this radius, with more elements near the center. By default, elements are seeded at the surface (z=0)\n",
    "```\n",
    "\n",
    "Here we could also use the OilDrift model if we wanted to simulate oils (or other density fluids)."
   ]
  },
  {
   "cell_type": "code",
   "execution_count": null,
   "metadata": {},
   "outputs": [],
   "source": [
    "# 2020-12-01 14:00:00\n",
    "# 37.8016, -122.531\n",
    "start_time = dt.datetime(2020,12,1,21,0)\n",
    "time_step = timedelta(hours=1)\n",
    "num_steps = 24\n",
    "\n",
    "for i in range(num_steps+1):\n",
    "    o.seed_elements(lon=-122.531, lat=37.8016, number=20, radius=500,\n",
    "            time=start_time + i*time_step)"
   ]
  },
  {
   "cell_type": "markdown",
   "metadata": {},
   "source": [
    "__5. Setting other configurations__\n",
    "\n",
    "There are a bunch of ways to configure the model, how it reflects off of the shoreline, the advection schemes, other forcings etc.\n",
    "\n",
    "Use `o.list_configspec()` to view the current settings"
   ]
  },
  {
   "cell_type": "code",
   "execution_count": null,
   "metadata": {},
   "outputs": [],
   "source": [
    "o.set_config('general:coastline_action', 'stranding') \n",
    "o.set_config('drift:scheme', 'runge-kutta4')\n",
    "o.set_config('general:time_step_minutes', 15)\n",
    "o.set_config('drift:current_uncertainty_uniform', .5) # uncertainty .2 meters per sec. this is a uniform distribution from -.2 to .2\n",
    "\n",
    "o.set_config('drift:stokes_drift', False)"
   ]
  },
  {
   "cell_type": "code",
   "execution_count": null,
   "metadata": {},
   "outputs": [],
   "source": [
    "o.list_environment_variables()"
   ]
  },
  {
   "cell_type": "code",
   "execution_count": null,
   "metadata": {},
   "outputs": [],
   "source": [
    "base_folder= \"Data/model_output/\"\n",
    "out_fname = \"sf_bay_continuous_20_gate_\" + start_time.strftime(\"%Y%m%dT%H%M%S\")"
   ]
  },
  {
   "cell_type": "code",
   "execution_count": null,
   "metadata": {},
   "outputs": [],
   "source": [
    "os.path.join(base_folder,out_fname+\".nc\")"
   ]
  },
  {
   "cell_type": "code",
   "execution_count": null,
   "metadata": {},
   "outputs": [],
   "source": [
    "o.run(duration=timedelta(hours=48), time_step=timedelta(minutes=15), outfile=os.path.join(base_folder,out_fname+\".nc\")) #\n",
    "# o.run(duration=timedelta(hours=48), time_step=timedelta(minutes=15)) #"
   ]
  },
  {
   "cell_type": "code",
   "execution_count": null,
   "metadata": {},
   "outputs": [],
   "source": [
    "o.animation(legend_loc='upper center',background=[\"x_sea_water_velocity\",\"y_sea_water_velocity\"], fast=True,  filename='Figures/continuous-start.mp4',show_trajectories=True)"
   ]
  },
  {
   "cell_type": "code",
   "execution_count": null,
   "metadata": {},
   "outputs": [],
   "source": [
    "# o.plot(show_particles=True,background=\"x_sea_water_velocity\")\n",
    "# o.plot(compare=o_diffusion, legend=['Width diffusion', 'No diffusion'],density=True)\n",
    "o.plot(density=True, filename='Figures/continuos_plot.png')\n",
    "plt.show()"
   ]
  },
  {
   "cell_type": "code",
   "execution_count": null,
   "metadata": {},
   "outputs": [],
   "source": [
    "# color='wind_drift_factor'\n",
    "o.plot(linecolor='age_seconds')\n",
    "\n",
    "# print(o)"
   ]
  },
  {
   "cell_type": "code",
   "execution_count": null,
   "metadata": {},
   "outputs": [],
   "source": [
    "o_diffusion.write_netcdf_density_map('Data/model_output/diffusion_density_large.nc',pixelsize_m=1000)"
   ]
  },
  {
   "cell_type": "code",
   "execution_count": null,
   "metadata": {},
   "outputs": [],
   "source": [
    "o_diffusion."
   ]
  },
  {
   "cell_type": "code",
   "execution_count": null,
   "metadata": {},
   "outputs": [],
   "source": [
    "o.reset()\n",
    "o_diffusion.reset()"
   ]
  },
  {
   "cell_type": "code",
   "execution_count": null,
   "metadata": {},
   "outputs": [],
   "source": [
    "import opendrift"
   ]
  },
  {
   "cell_type": "code",
   "execution_count": null,
   "metadata": {},
   "outputs": [],
   "source": [
    "opendrift.__version__"
   ]
  },
  {
   "cell_type": "code",
   "execution_count": null,
   "metadata": {},
   "outputs": [],
   "source": []
  }
 ],
 "metadata": {
  "kernelspec": {
   "display_name": "Python 3",
   "language": "python",
   "name": "python3"
  },
  "language_info": {
   "codemirror_mode": {
    "name": "ipython",
    "version": 3
   },
   "file_extension": ".py",
   "mimetype": "text/x-python",
   "name": "python",
   "nbconvert_exporter": "python",
   "pygments_lexer": "ipython3",
   "version": "3.8.5"
  }
 },
 "nbformat": 4,
 "nbformat_minor": 4
}
