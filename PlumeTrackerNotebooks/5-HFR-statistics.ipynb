{
 "cells": [
  {
   "cell_type": "code",
   "execution_count": 1,
   "metadata": {},
   "outputs": [],
   "source": [
    "import pandas as pd\n",
    "import xarray as xr\n"
   ]
  },
  {
   "cell_type": "code",
   "execution_count": null,
   "metadata": {},
   "outputs": [],
   "source": [
    "pacifica = [(-122.4886322, 37.6772991),\n",
    "            (-122.5037384, 37.6762122),\n",
    "            (-122.5435638, 37.6000882),\n",
    "            (-122.5009918, 37.5810450),\n",
    "            (-122.4824524, 37.6071601),\n",
    "            (-122.4838257, 37.6463157),\n",
    "            (-122.4886322, 37.6778426)]\n"
   ]
  }
 ],
 "metadata": {
  "kernelspec": {
   "display_name": "Python 3",
   "language": "python",
   "name": "python3"
  },
  "language_info": {
   "codemirror_mode": {
    "name": "ipython",
    "version": 3
   },
   "file_extension": ".py",
   "mimetype": "text/x-python",
   "name": "python",
   "nbconvert_exporter": "python",
   "pygments_lexer": "ipython3",
   "version": "3.8.5"
  }
 },
 "nbformat": 4,
 "nbformat_minor": 4
}
