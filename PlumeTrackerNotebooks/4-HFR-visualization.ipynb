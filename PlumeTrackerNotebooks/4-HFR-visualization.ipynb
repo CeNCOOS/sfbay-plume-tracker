{
 "cells": [
  {
   "cell_type": "code",
   "execution_count": 138,
   "metadata": {},
   "outputs": [],
   "source": [
    "%matplotlib inline\n",
    "import xarray as xr\n",
    "import numpy as np\n",
    "import datetime as dt\n",
    "from datetime import timedelta\n",
    "from opendrift.readers import reader_netCDF_CF_generic\n",
    "from opendrift.readers import reader_global_landmask\n",
    "from opendrift.models.oceandrift import OceanDrift\n",
    "import os\n",
    "import cartopy.crs as ccrs\n",
    "import matplotlib.pyplot as plt\n",
    "import matplotlib.colors as mcolors\n",
    "from matplotlib import cm\n",
    "\n",
    "# matplotlib.use('TkAgg')\n",
    "from IPython.display import HTML, display\n",
    "from mpl_toolkits.axes_grid1 import make_axes_locatable\n"
   ]
  },
  {
   "cell_type": "code",
   "execution_count": 2,
   "metadata": {},
   "outputs": [],
   "source": [
    "def make_map():\n",
    "    fig = plt.figure(figsize=(12,9))\n",
    "    cart_proj = ccrs.PlateCarree()\n",
    "    ax = plt.axes(projection=cart_proj)\n",
    "    ax.coastlines('10m', linewidth=0.8,zorder=200)\n",
    "    ax.set_xlim(-123.3,-122.2)\n",
    "    ax.set_ylim(37.5,38.1)\n",
    "    return(fig, ax)"
   ]
  },
  {
   "cell_type": "markdown",
   "metadata": {},
   "source": [
    "## Plotting the data ##"
   ]
  },
  {
   "cell_type": "markdown",
   "metadata": {},
   "source": [
    "__1. Old model runs are found under Data/model_outputs/sf_bay_start_time__\n",
    "First, lets start by plotting a model run"
   ]
  },
  {
   "cell_type": "code",
   "execution_count": 162,
   "metadata": {},
   "outputs": [],
   "source": [
    "ds = xr.open_dataset('Data/model_output/sf_bay_continuous_20201204T130000.nc')\n",
    "df = ds['status'].to_dataframe()\n",
    "df['start_time'] = 0\n",
    "df = df.query(\"trajectory <= 300\")"
   ]
  },
  {
   "cell_type": "code",
   "execution_count": 163,
   "metadata": {},
   "outputs": [],
   "source": [
    "time_steps = df.index.get_level_values(1).values\n",
    "t = time_steps[48]\n",
    "dt = time_steps[24]\n",
    "step = df.query(\"time <= @t & time >= @dt & status == 0\")"
   ]
  },
  {
   "cell_type": "code",
   "execution_count": null,
   "metadata": {},
   "outputs": [],
   "source": [
    "time_steps.unique().shape[0]"
   ]
  },
  {
   "cell_type": "code",
   "execution_count": null,
   "metadata": {},
   "outputs": [],
   "source": [
    "time_steps = df.index.get_level_values(1).values\n",
    "norm = mcolors.Normalize(vmin=0, vmax=25)\n",
    "for i in range(time_steps.shape[0]):\n",
    "    fig, ax = make_map()\n",
    "    t = time_steps[0]\n",
    "    if i < 24:\n",
    "        dt = time_steps[0]\n",
    "    else:\n",
    "        dt = time_steps[i -  24]\n",
    "    step = df.query(\"time <= @t & time >= @dt & status == 0\")\n",
    "    for traj, temp_df in step.groupby(level=0):\n",
    "        ax.plot(temp_df['lon'], temp_df['lat'],color='.75')\n",
    "        mod = traj//100\n",
    "        marker = temp_df.iloc[-1]\n",
    "        ax.scatter(marker['lon'],marker['lat'],c=norm(mod),zorder=10)\n",
    "        plt.savefig(f\"Data/model_output/animation_cont/sfBay_cont_01_frame_{i:04}.png\")\n",
    "        plt.close()"
   ]
  },
  {
   "cell_type": "code",
   "execution_count": 11,
   "metadata": {},
   "outputs": [],
   "source": [
    "max_val = surface_map['density_surface'].max()\n",
    "fig, ax = make_map()\n",
    "current_step = surface_map.isel(time=2)\n",
    "im = current_step['density_surface'].plot(ax=ax, vmin=0, vmax=max_val, add_colorbar=False)\n",
    "plt.colorbar(im, fraction=0.026, pad=0.02,)\n",
    "plt.show()"
   ]
  },
  {
   "cell_type": "code",
   "execution_count": 12,
   "metadata": {},
   "outputs": [],
   "source": [
    "max_val = surface_map['density_surface'].max()\n",
    "\n",
    "for i in range(surface_map['time'].shape[0]):\n",
    "    fig, ax = make_map()\n",
    "    current_step = surface_map.isel(time=i)\n",
    "    im = current_step['density_surface'].plot(ax=ax, vmin=0, vmax=max_val, add_colorbar=False)\n",
    "    plt.colorbar(im, fraction=0.026, pad=0.02)\n",
    "    plt.text(.02,.95,\"time_step: {}\".format(i), transform=ax.transAxes)\n",
    "    plt.savefig(f\"Data/model_output/animation/sfBay_density_large_01_frame_{i:04}.png\")\n",
    "    plt.close()"
   ]
  },
  {
   "cell_type": "code",
   "execution_count": 13,
   "metadata": {},
   "outputs": [
    {
     "name": "stdout",
     "output_type": "stream",
     "text": [
      "/bin/bash: magick: command not found\n"
     ]
    },
    {
     "data": {
      "text/html": [
       "<img src='Data/model_output/density_animation_large.gif' />"
      ],
      "text/plain": [
       "<IPython.core.display.HTML object>"
      ]
     },
     "metadata": {},
     "output_type": "display_data"
    }
   ],
   "source": [
    "!magick convert Data/model_output/animation/sfBay_density_large_01_frame*png Data/model_output/density_animation_large.gif\n",
    "display(HTML(\"<img src='Data/model_output/density_animation_large.gif' />\"))"
   ]
  },
  {
   "cell_type": "code",
   "execution_count": 3,
   "metadata": {},
   "outputs": [],
   "source": [
    "import glob\n",
    "from PIL import Image"
   ]
  },
  {
   "cell_type": "code",
   "execution_count": 5,
   "metadata": {},
   "outputs": [],
   "source": [
    "# filepaths\n",
    "fp_in = \"Data/model_output/animation/sfBay_density_large_01_frame*png\"\n",
    "fp_out = \"Data/model_output/animation/density_animation_large.gif\"\n",
    "\n",
    "# https://pillow.readthedocs.io/en/stable/handbook/image-file-formats.html#gif\n",
    "img, *imgs = [Image.open(f) for f in sorted(glob.glob(fp_in))]\n",
    "img.save(fp=fp_out, format='GIF', append_images=imgs,\n",
    "         save_all=True, duration=200, loop=0)\n"
   ]
  },
  {
   "cell_type": "code",
   "execution_count": 6,
   "metadata": {},
   "outputs": [
    {
     "ename": "NameError",
     "evalue": "name 'o' is not defined",
     "output_type": "error",
     "traceback": [
      "\u001b[0;31m---------------------------------------------------------------------------\u001b[0m",
      "\u001b[0;31mNameError\u001b[0m                                 Traceback (most recent call last)",
      "\u001b[0;32m<ipython-input-6-aa0a18d9cd83>\u001b[0m in \u001b[0;36m<module>\u001b[0;34m\u001b[0m\n\u001b[0;32m----> 1\u001b[0;31m \u001b[0mo\u001b[0m\u001b[0;34m\u001b[0m\u001b[0;34m\u001b[0m\u001b[0m\n\u001b[0m",
      "\u001b[0;31mNameError\u001b[0m: name 'o' is not defined"
     ]
    }
   ],
   "source": []
  },
  {
   "cell_type": "code",
   "execution_count": null,
   "metadata": {},
   "outputs": [],
   "source": []
  }
 ],
 "metadata": {
  "kernelspec": {
   "display_name": "Python 3",
   "language": "python",
   "name": "python3"
  },
  "language_info": {
   "codemirror_mode": {
    "name": "ipython",
    "version": 3
   },
   "file_extension": ".py",
   "mimetype": "text/x-python",
   "name": "python",
   "nbconvert_exporter": "python",
   "pygments_lexer": "ipython3",
   "version": "3.8.5"
  }
 },
 "nbformat": 4,
 "nbformat_minor": 4
}
