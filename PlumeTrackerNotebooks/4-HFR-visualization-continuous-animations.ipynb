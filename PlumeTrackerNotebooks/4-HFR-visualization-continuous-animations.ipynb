{
 "cells": [
  {
   "cell_type": "code",
   "execution_count": 1,
   "metadata": {},
   "outputs": [],
   "source": [
    "%matplotlib inline\n",
    "import xarray as xr\n",
    "import tqdm\n",
    "import numpy as np\n",
    "import pandas as pd\n",
    "import datetime as dt\n",
    "from datetime import timedelta\n",
    "import cmocean as cm\n",
    "import os\n",
    "import cartopy.crs as ccrs\n",
    "import matplotlib\n",
    "import matplotlib.pyplot as plt\n",
    "import matplotlib.colors as mcolors\n",
    "import matplotlib.colorbar as mcbar\n",
    "from IPython.display import HTML, display\n",
    "from mpl_toolkits.axes_grid1 import make_axes_locatable\n",
    "import warnings\n",
    "import scipy.ndimage as ndimage\n",
    "from tqdm import tqdm\n",
    "warnings.filterwarnings('ignore')\n"
   ]
  },
  {
   "cell_type": "code",
   "execution_count": 2,
   "metadata": {},
   "outputs": [],
   "source": [
    "def make_map():\n",
    "    fig = plt.figure(figsize=(12,9))\n",
    "    cart_proj = ccrs.PlateCarree()\n",
    "    ax = plt.axes(projection=cart_proj)\n",
    "    ax.coastlines('10m', linewidth=0.8,zorder=200)\n",
    "    ax.set_xlim(-123.05,-122.3)\n",
    "    ax.set_ylim(37.5,38.)\n",
    "    return(fig, ax)\n",
    "\n",
    "def make_map_colorbar():\n",
    "    fig = plt.figure(figsize=(12,9))\n",
    "    gs = fig.add_gridspec(2, 1, height_ratios=[4, 1],hspace=.75)\n",
    "    cart_proj = ccrs.PlateCarree()\n",
    "    ax = fig.add_subplot(gs[0],projection=ccrs.PlateCarree())\n",
    "    ax = plt.axes(projection=cart_proj)\n",
    "    ax.coastlines('10m', linewidth=0.8,zorder=200)\n",
    "    ax.set_xlim(-123.05,-122.3)\n",
    "    ax.set_ylim(37.5,38.)\n",
    "    ax_cb = fig.add_subplot(gs[1])\n",
    "    return(fig, ax, ax_cb)\n"
   ]
  },
  {
   "cell_type": "code",
   "execution_count": 12,
   "metadata": {},
   "outputs": [],
   "source": [
    "def plot_radars(current_time, radar, ax):\n",
    "    ''' '''\n",
    "    current_radar = radar.sel(lat=slice(37.244221, 38.233120),lon=slice(-123.99,  -122.177032)).sel(time=current_time,method='nearest')\n",
    "    current_radar['speed'] = np.sqrt(current_radar['u']**2 + current_radar['v']**2)\n",
    "    u = current_radar['u']\n",
    "    v = current_radar['v']\n",
    "    x = current_radar['lon'].values\n",
    "    y = current_radar['lat'].values\n",
    "    xx,yy = np.meshgrid(x,y)\n",
    "    # current_radar['speed'].plot(alpha=.5)\n",
    "    cax = plt.contourf(x,y,current_radar['speed'],vmin=0,vmax=1,alpha=.75)\n",
    "    plt.colorbar(cax)\n",
    "    q = ax.quiver(xx,yy,u,v)\n",
    "\n",
    "# This is a function to make a custome color map for the bathymetry\n",
    "def custom_div_cmap(numcolors=11, name='custom_div_cmap',\n",
    "                    mincol='blue', midcol='white', maxcol='red'):\n",
    "    \"\"\" Create a custom diverging colormap with n colors\n",
    "    Default is blue to white to red with 11 colors.  Colors can be specified\n",
    "    in any way understandable by matplotlib.colors.ColorConverter.to_rgb()\n",
    "    \"\"\"\n",
    "    cmap = mcolors.LinearSegmentedColormap.from_list(name=name, \n",
    "                                             colors =[mincol, midcol, maxcol],\n",
    "                                             N=numcolors)\n",
    "    return cmap\n",
    "\n",
    "def make_bathy_map(bathy):\n",
    "    fig, ax, ax_tides = make_map_colorbar()\n",
    "    if bathy is not None:\n",
    "        y = bathy['x'].values\n",
    "        x = bathy['y'].values\n",
    "        xx,yy = np.meshgrid(y,x)\n",
    "        elv = bathy['z'].values\n",
    "        elv_smooth = ndimage.gaussian_filter(elv, sigma=2, order=0) # This is a smoothing function for the contours\n",
    "        elv[elv>.5] = np.nan # This removes replaces all data that is above 0.5 meters in elevation\n",
    "\n",
    "        # Set the levels for the plotting bathymetery (ie detph contours)\n",
    "        blevels = np.concatenate((np.arange(-150,-40,20),np.arange(-40,1,5))) \n",
    "        N = len(blevels)-1\n",
    "        bnorm = matplotlib.colors.BoundaryNorm(blevels, ncolors=N, clip=False)\n",
    "        cmap2 = custom_div_cmap(N, mincol='DarkBlue', midcol='CornflowerBlue' ,maxcol='w')\n",
    "        cmap2.set_over('0.7') # light gray for anything above 0 meters\n",
    "\n",
    "        # Contour colors\n",
    "        pc = ax.contourf(xx,yy,elv_smooth, norm=bnorm, vmin=blevels.min(), vmax=blevels.max(), levels=blevels, cmap=cmap2, extend='both',alpha=.75)\n",
    "        plt.colorbar(pc, ticks=blevels,fraction=0.026, pad=0.02)\n",
    "\n",
    "        # Contour lines\n",
    "        # ax.contour(xx,yy,elv_smooth,levels=[-1], colors='red',zorder=20) # Highlight coastline (ie 1 meter isobath)\n",
    "        ax.contour(xx,yy,elv_smooth,levels=[-20], colors='black',zorder=20) # Highlight 20 meter isobath \n",
    "\n",
    "    # THis is all formating stuff\n",
    "    gl = ax.gridlines(crs=ccrs.PlateCarree(), draw_labels=True) # This maps the gridlines, which are basically straight at this scale\n",
    "    # # # Turn off the lable ticks\n",
    "    gl.xlines = False\n",
    "    gl.ylines = False\n",
    "\n",
    "    gl.xlabels_top = False\n",
    "    gl.ylabels_right = False\n",
    "    return fig, ax, ax_tides\n",
    "\n",
    "\n",
    "def plot_radars(current_time, radar, ax):\n",
    "    ''' '''\n",
    "    current_radar = radar.sel(lat=slice(37.244221, 38.233120),lon=slice(-123.99,  -122.177032)).sel(time=current_time,method='nearest')\n",
    "    current_radar['speed'] = np.sqrt(current_radar['u']**2 + current_radar['v']**2)\n",
    "    u = current_radar['u']\n",
    "    v = current_radar['v']\n",
    "    x = current_radar['lon'].values\n",
    "    y = current_radar['lat'].values\n",
    "    xx,yy = np.meshgrid(x,y)\n",
    "    # current_radar['speed'].plot(alpha=.5)\n",
    "#     cax = plt.contourf(x,y,current_radar['speed'],vmin=0,vmax=1,alpha=.75)\n",
    "#     plt.colorbar(cax)\n",
    "    q = ax.quiver(xx,yy,u,v,zorder=100)\n",
    "\n"
   ]
  },
  {
   "cell_type": "markdown",
   "metadata": {},
   "source": [
    "## Continuous Data"
   ]
  },
  {
   "cell_type": "markdown",
   "metadata": {},
   "source": [
    "__Data are saved at a netcdf file where the main coordinates are (`trajectory`, `time`, `lon`, `lat`). There are also data variables that may useful, status indicates if the paricle is ruinning (0), stopped (1) or not yet deployed (-3E23)__"
   ]
  },
  {
   "cell_type": "markdown",
   "metadata": {},
   "source": [
    "__Load HFR vectors__"
   ]
  },
  {
   "cell_type": "code",
   "execution_count": 13,
   "metadata": {},
   "outputs": [],
   "source": [
    "hfr2 = xr.open_dataset(\"http://hfrnet-tds.ucsd.edu/thredds/dodsC/HFR/USWC/2km/hourly/RTV/HFRADAR_US_West_Coast_2km_Resolution_Hourly_RTV_best.ncd\")"
   ]
  },
  {
   "cell_type": "markdown",
   "metadata": {},
   "source": [
    "__Load Bathymetry Data__"
   ]
  },
  {
   "cell_type": "code",
   "execution_count": 14,
   "metadata": {},
   "outputs": [],
   "source": [
    "# make negative contours, normally dashed by default, be solid\n",
    "matplotlib.rcParams['contour.negative_linestyle'] = 'solid'      \n",
    "try:\n",
    "    bathy = xr.open_dataset('https://www.ngdc.noaa.gov/thredds/dodsC/crm/crm_vol7.nc')\n",
    "    bathy = bathy.sel(y=slice(36.244221, 38.233120),x=slice(-123.99,  -122.177032))\n",
    "except:\n",
    "    bathy=None"
   ]
  },
  {
   "cell_type": "markdown",
   "metadata": {},
   "source": [
    "__Load Particle Tracks__"
   ]
  },
  {
   "cell_type": "code",
   "execution_count": 17,
   "metadata": {},
   "outputs": [],
   "source": [
    "ds = xr.open_dataset('~/SurfaceCurrentMaps/DailyModelRuns/model_output/concave_hrf_20210120T012700_continuous.nc')\n",
    "start_time = ds['time'].values[0]\n",
    "df = ds['status'].to_dataframe()\n",
    "df = df[df['status'] >= 0  ] # remove data rows were trajectory is not yet deployed\n",
    "df['start_group'] = 0"
   ]
  },
  {
   "cell_type": "markdown",
   "metadata": {},
   "source": [
    "__Load Tide Data__"
   ]
  },
  {
   "cell_type": "code",
   "execution_count": 18,
   "metadata": {},
   "outputs": [],
   "source": [
    "time_df = ds['time'].to_pandas().dt.strftime('%Y%m%d')\n",
    "# 20201204\n",
    "tides = pd.read_csv(\"https://api.tidesandcurrents.noaa.gov/api/prod/datagetter?begin_date={}&end_date={}&station=9414290&product=water_level&datum=MLLW&time_zone=gmt&units=metric&format=csv\".format(time_df.iloc[0],time_df.iloc[-1]))\n",
    "tides['dateTime'] = pd.to_datetime(tides['Date Time'])\n",
    "tides.index = tides.dateTime"
   ]
  },
  {
   "cell_type": "markdown",
   "metadata": {},
   "source": [
    "__Load Particle Tracks__"
   ]
  },
  {
   "cell_type": "code",
   "execution_count": 19,
   "metadata": {},
   "outputs": [],
   "source": [
    "# start_time\n",
    "for i in range(1,501):\n",
    "    time_diff = df.loc[(i)].index[0] - start_time\n",
    "    time_diff = int(time_diff.total_seconds() / 3600)\n",
    "    df.loc[(i)]['start_group'] = time_diff"
   ]
  },
  {
   "cell_type": "code",
   "execution_count": 28,
   "metadata": {},
   "outputs": [
    {
     "name": "stdout",
     "output_type": "stream",
     "text": [
      "0 days 04:30:00\n",
      "4\n"
     ]
    }
   ],
   "source": [
    "i= 500\n",
    "time_diff = df.loc[(i)].index[0] - start_time\n",
    "print(time_diff)\n",
    "time_diff = int(time_diff.total_seconds() / 3600)\n",
    "print(time_diff)"
   ]
  },
  {
   "cell_type": "code",
   "execution_count": 12,
   "metadata": {},
   "outputs": [
    {
     "name": "stderr",
     "output_type": "stream",
     "text": [
      "100%|██████████| 193/193 [11:40<00:00,  3.63s/it]\n"
     ]
    }
   ],
   "source": [
    "norm = mcolors.Normalize(vmin=0, vmax=24)\n",
    "start_time_ts = df.index.get_level_values(1)[0]\n",
    "for j, t in enumerate(tqdm(pd.to_datetime(ds['time'].values))):\n",
    "# j = 30\n",
    "# t = df.index.get_level_values(1)[30]\n",
    "    current_time = t\n",
    "    tail_time = current_time - timedelta(hours=3)\n",
    "    bathy=None\n",
    "    fig, ax, ax_tide = make_bathy_map(bathy=bathy)\n",
    "    plot_radars(t, hfr2, ax)\n",
    "    for i in range(1,501):\n",
    "        current_df = df.loc[(i)]\n",
    "        if (current_time - start_time_ts).total_seconds() <= (6 * 60):\n",
    "            plot_df = current_df.query(\"time <= @current_time\")\n",
    "        else:\n",
    "            plot_df = current_df.query(\"time <= @current_time & time >= @tail_time\")\n",
    "\n",
    "        if plot_df.size != 0:\n",
    "            # Particles that are done\n",
    "            if np.any(plot_df['status'] == 1):\n",
    "                ax.scatter(plot_df.iloc[-1]['lon'], plot_df.iloc[-1]['lat'],marker='x', c=np.array([cm.cm.algae(norm(plot_df['start_group'].iloc[0]))]));\n",
    "            # plot the past 6 hours and the current location\n",
    "            else:\n",
    "                ax.plot(plot_df['lon'], plot_df['lat'], color=cm.cm.algae((norm(plot_df['start_group'].iloc[0]))),alpha=.75);\n",
    "                im = ax.scatter(plot_df.iloc[-1]['lon'], plot_df.iloc[-1]['lat'], c=np.array([cm.cm.algae(norm(plot_df['start_group'].iloc[0]))]),zorder=210, edgecolors='k');\n",
    "    plt.text(.02,.95,\"time step: {}\".format(j), transform=ax.transAxes)\n",
    "    plt.text(.02,.925,\"time: {}\".format(current_time), transform=ax.transAxes)\n",
    "    # cbar = plt.colorbar(im,cmap=cm.cm.algae, norm=norm)\n",
    "    # cbar.set_clim(1,24)\n",
    "    ax_cb, _ = mcbar.make_axes(ax, shrink=.5,orientation='horizontal',pad=0,anchor=(.1,1.75))\n",
    "    cbar = mcbar.ColorbarBase(ax_cb, cmap=cm.cm.algae,norm=norm,orientation='horizontal',)\n",
    "\n",
    "    ax_tide.plot(tides['dateTime'],tides[' Water Level'])\n",
    "    current_tide = (tides.index.get_loc(current_time, method='nearest'))\n",
    "    ax_tide.scatter(tides.index[current_tide],tides[' Water Level'].iloc[current_tide],c='r',marker='x',s=60,zorder=120)\n",
    "    ax_tide.set_ylabel('water level [m]')\n",
    "    plt.savefig(f\"Data/model_output/animation_cont/sfBay_01_frame_{j:04}.png\")\n",
    "    plt.close()"
   ]
  },
  {
   "cell_type": "code",
   "execution_count": 31,
   "metadata": {},
   "outputs": [],
   "source": [
    "import glob\n",
    "from PIL import Image"
   ]
  },
  {
   "cell_type": "code",
   "execution_count": 32,
   "metadata": {},
   "outputs": [],
   "source": [
    "# filepaths\n",
    "fp_in = \"Data/model_output/animation_cont/sfBay_01_frame*png\"\n",
    "fp_out = \"Data/model_output/animation_cont/cont_sfgate_animation_large.gif\"\n",
    "\n",
    "# https://pillow.readthedocs.io/en/stable/handbook/image-file-formats.html#gif\n",
    "img, *imgs = [Image.open(f) for f in sorted(glob.glob(fp_in))]\n",
    "img.save(fp=fp_out, format='GIF', append_images=imgs,\n",
    "         save_all=True, duration=100, loop=0)\n"
   ]
  },
  {
   "cell_type": "code",
   "execution_count": null,
   "metadata": {},
   "outputs": [],
   "source": []
  }
 ],
 "metadata": {
  "kernelspec": {
   "display_name": "Python 3",
   "language": "python",
   "name": "python3"
  },
  "language_info": {
   "codemirror_mode": {
    "name": "ipython",
    "version": 3
   },
   "file_extension": ".py",
   "mimetype": "text/x-python",
   "name": "python",
   "nbconvert_exporter": "python",
   "pygments_lexer": "ipython3",
   "version": "3.8.5"
  }
 },
 "nbformat": 4,
 "nbformat_minor": 4
}
